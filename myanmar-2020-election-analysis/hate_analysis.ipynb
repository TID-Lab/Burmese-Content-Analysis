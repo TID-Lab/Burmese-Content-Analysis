{
 "nbformat": 4,
 "nbformat_minor": 2,
 "metadata": {
  "language_info": {
   "name": "python",
   "codemirror_mode": {
    "name": "ipython",
    "version": 3
   },
   "version": "3.7.2-final"
  },
  "orig_nbformat": 2,
  "file_extension": ".py",
  "mimetype": "text/x-python",
  "name": "python",
  "npconvert_exporter": "python",
  "pygments_lexer": "ipython3",
  "version": 3,
  "kernelspec": {
   "name": "python36964bit3713edbbeed04814bf2c2b942a570b08",
   "display_name": "Python 3.6.9 64-bit"
  }
 },
 "cells": [
  {
   "cell_type": "code",
   "execution_count": 49,
   "metadata": {},
   "outputs": [],
   "source": [
    "from pymongo import MongoClient\n",
    "from pprint import pprint\n",
    "from bson.objectid import ObjectId\n",
    "from collections import defaultdict\n",
    "import dateutil\n",
    "import json"
   ]
  },
  {
   "cell_type": "code",
   "execution_count": 56,
   "metadata": {},
   "outputs": [],
   "source": [
    "with open(\"secrets.json\", \"r\") as secrets:\n",
    "    mongo_uri = json.load(secrets)[\"mongo_uri\"]\n"
   ]
  },
  {
   "cell_type": "code",
   "execution_count": 51,
   "metadata": {},
   "outputs": [],
   "source": [
    "client = MongoClient(mongo_uri)\n",
    "db=client.aggie"
   ]
  },
  {
   "cell_type": "code",
   "execution_count": 52,
   "metadata": {},
   "outputs": [
    {
     "name": "stdout",
     "output_type": "stream",
     "text": "225289\n"
    }
   ],
   "source": [
    "# testing connection\n",
    "facebook = db.reports.count_documents({'$and': [{'_sourceNicknames': [\"ct\"]}]})\n",
    "print(facebook)"
   ]
  },
  {
   "cell_type": "code",
   "execution_count": 5,
   "metadata": {},
   "outputs": [
    {
     "name": "stdout",
     "output_type": "stream",
     "text": "First Hate Speech report fetched at : 2020-08-05 06:01:12.969000\n"
    }
   ],
   "source": [
    "# find start date/time for HS activation\n",
    "\n",
    "hs_reports_sorted = db.reports.find({'$and':[{\"metadata.hateSpeechScore\": { '$exists': True}}]}, {'metadata.rawAPIResponse': 0}).sort([(\"fetchedAt\", 1)])\n",
    "print(\"First Hate Speech report fetched at : \" + str(hs_reports_sorted.next()['fetchedAt']))\n"
   ]
  },
  {
   "cell_type": "code",
   "execution_count": 19,
   "metadata": {},
   "outputs": [
    {
     "name": "stdout",
     "output_type": "stream",
     "text": "Total Reports : 551676\n"
    }
   ],
   "source": [
    "total_reports = db.reports.count_documents({})\n",
    "print(\"Total Reports : {}\".format(total_reports))"
   ]
  },
  {
   "cell_type": "code",
   "execution_count": 18,
   "metadata": {},
   "outputs": [
    {
     "name": "stdout",
     "output_type": "stream",
     "text": "502454\n"
    }
   ],
   "source": [
    "#verify that all reports after hs activation have hs field\n",
    "num_reports_after_hs_activation = db.reports.count_documents({'$and':[{'$or':[{\"_sourceNicknames\": [\"fb\"]}, {\"_sourceNicknames\": [\"ct\"]}]}, {'fetchedAt':{'$lte': dateutil.parser.parse('2020-11-22 18:40:32.568000')}}]})\n",
    "total_hs_reports = db.reports.count_documents({'$and':[{\"metadata.hateSpeechScore\": { '$exists': True}},   {'$or' : [{\"_sourceNicknames\": [\"ct\"]}, {\"_sourceNicknames\": [\"fb\"]}]},{'fetchedAt':{'$lte': dateutil.parser.parse('2020-11-22 18:40:32.568000')}}]})\n",
    "print(num_reports_after_hs_activation)\n",
    "assert(num_reports_after_hs_activation == total_hs_reports)"
   ]
  },
  {
   "cell_type": "code",
   "execution_count": 20,
   "metadata": {},
   "outputs": [
    {
     "name": "stdout",
     "output_type": "stream",
     "text": "Total non null HS FB reports : 207297\n"
    }
   ],
   "source": [
    "# None HS score means that the report is in non Burmese language or does not have any content\n",
    "non_null_hs_reports_count = db.reports.count_documents({'$and':[{\"metadata.hateSpeechScore\": { '$exists': True}}, {\"metadata.hateSpeechScore\":{'$ne' : None}}, {'$or' : [{\"_sourceNicknames\": [\"ct\"]}, {\"_sourceNicknames\": [\"fb\"]}]}, {'fetchedAt':{'$lte': dateutil.parser.parse('2020-11-22 18:40:32.568000')}}]})\n",
    "print(\"Total non null HS FB reports : \" + str(non_null_hs_reports_count))\n",
    "# hs_reports_sorted = db.reports.find_one({'$and': [{'fetchedAt':{'$gte': dateutil.parser.parse('2020-10-16T00:00:00.000+00:00')}},{\"metadata.hateSpeechScore\": { '$exists': True}}, {\"metadata.hateSpeechScore\":{'$ne' : None}}]}, {'metadata.rawAPIResponse': 0})\n",
    "# pprint(hs_reports_sorted)"
   ]
  },
  {
   "cell_type": "code",
   "execution_count": 21,
   "metadata": {},
   "outputs": [
    {
     "name": "stdout",
     "output_type": "stream",
     "text": "Total non null HS FB reports read: 93058 (0.44891146519245334)\n"
    }
   ],
   "source": [
    "#Read/Unread\n",
    "non_null_hs_reports_read_count = db.reports.count_documents({'$and':[{\"metadata.hateSpeechScore\": { '$exists': True}}, {\"metadata.hateSpeechScore\":{'$ne' : None}}, {'$or' : [{\"_sourceNicknames\": [\"ct\"]}, {\"_sourceNicknames\": [\"fb\"]}]}, {\"read\": True}, {\"fetchedAt\": {'$lte': dateutil.parser.parse('2020-11-22 18:40:32.568000')}}]})\n",
    "print(\"Total non null HS FB reports read: {} ({})\".format(str(non_null_hs_reports_read_count), non_null_hs_reports_read_count/non_null_hs_reports_count))"
   ]
  },
  {
   "cell_type": "code",
   "execution_count": 22,
   "metadata": {},
   "outputs": [
    {
     "name": "stdout",
     "output_type": "stream",
     "text": "Total non null HS FB reports 0.45: 45209 (0.48581529798620215)\n"
    }
   ],
   "source": [
    "hs_reports_45 = db.reports.count_documents({'$and':[{'$or' : [{\"_sourceNicknames\": [\"ct\"]}, {\"_sourceNicknames\": [\"fb\"]}]}, {\"metadata.hateSpeechScore\":{'$gte':0.45}}, {\"read\": True}, {\"fetchedAt\": {'$lte': dateutil.parser.parse('2020-11-22 18:40:32.568000')}}]})\n",
    "print(\"Total non null HS FB reports 0.45: {} ({})\".format(hs_reports_45, hs_reports_45/non_null_hs_reports_read_count))\n"
   ]
  },
  {
   "cell_type": "code",
   "execution_count": 24,
   "metadata": {},
   "outputs": [
    {
     "name": "stdout",
     "output_type": "stream",
     "text": "Total non null HS FB reports 0.55: 29681 (0.31895162156934387)\n"
    }
   ],
   "source": [
    "hs_reports_55 = db.reports.count_documents({'$and':[{'$or' : [{\"_sourceNicknames\": [\"ct\"]}, {\"_sourceNicknames\": [\"fb\"]}]}, {\"metadata.hateSpeechScore\":{'$gte':0.55}}, {\"read\": True}, {\"fetchedAt\": {'$lte': dateutil.parser.parse('2020-11-22 18:40:32.568000')}}]})\n",
    "print(\"Total non null HS FB reports 0.55: {} ({})\".format(hs_reports_55, hs_reports_55/non_null_hs_reports_read_count))"
   ]
  },
  {
   "cell_type": "code",
   "execution_count": 25,
   "metadata": {},
   "outputs": [
    {
     "name": "stdout",
     "output_type": "stream",
     "text": "Total non null HS FB reports 0.65: 1010 (0.01085344623783017)\n"
    }
   ],
   "source": [
    "hs_reports_65 = db.reports.count_documents({'$and':[{'$or' : [{\"_sourceNicknames\": [\"ct\"]}, {\"_sourceNicknames\": [\"fb\"]}]}, {\"metadata.hateSpeechScore\":{'$gte':0.65}}, {\"read\": True}, {\"fetchedAt\": {'$lte': dateutil.parser.parse('2020-11-22 18:40:32.568000')}}]})\n",
    "print(\"Total non null HS FB reports 0.65: {} ({})\".format(hs_reports_65, hs_reports_65/non_null_hs_reports_read_count))"
   ]
  },
  {
   "cell_type": "code",
   "execution_count": 26,
   "metadata": {},
   "outputs": [
    {
     "name": "stdout",
     "output_type": "stream",
     "text": "HS incidents : 566\n"
    }
   ],
   "source": [
    "# total incidents with \"hate\" in title\n",
    "hs_incidents = db.incidents.count_documents({'$and':[{\"title\": {\"$regex\": \".*[hH]ate.*\"}}, {\"storedAt\": {'$lte': dateutil.parser.parse('2020-11-22 18:40:32.568000')}}]})\n",
    "print(\"HS incidents : {}\".format(hs_incidents))\n"
   ]
  },
  {
   "cell_type": "code",
   "execution_count": 27,
   "metadata": {},
   "outputs": [
    {
     "name": "stdout",
     "output_type": "stream",
     "text": "HS incidents with 0 reports: 8\n"
    }
   ],
   "source": [
    "#hate speech incidents with 0 report and hate speech in title\n",
    "hs_incidents_0_reports = db.incidents.count_documents({'$and': [{'totalReports': 0}, {\"title\" : {'$regex' : \".*[hH]ate.*\"}}, {\"storedAt\": {'$lte': dateutil.parser.parse('2020-11-22 18:40:32.568000')}}]})\n",
    "print(\"HS incidents with 0 reports: {}\".format(hs_incidents_0_reports))"
   ]
  },
  {
   "cell_type": "code",
   "execution_count": 28,
   "metadata": {},
   "outputs": [
    {
     "name": "stdout",
     "output_type": "stream",
     "text": "HS incidents with 1 report : 433\n"
    }
   ],
   "source": [
    "#hate speech incidents with only 1 report\n",
    "hs_incidents_1_report = db.incidents.count_documents({'$and': [{'totalReports': 1}, {\"title\" : {'$regex' : \".*[hH]ate.*\"}}, {\"storedAt\": {'$lte': dateutil.parser.parse('2020-11-22 18:40:32.568000')}}]})\n",
    "print(\"HS incidents with 1 report : {}\".format(hs_incidents_1_report))"
   ]
  },
  {
   "cell_type": "code",
   "execution_count": 29,
   "metadata": {},
   "outputs": [
    {
     "name": "stdout",
     "output_type": "stream",
     "text": "HS incidents with > 1 report and HS in title: 125\n"
    }
   ],
   "source": [
    "#hate speech incidents with > 1 report and hate speech in title\n",
    "hs_incidents_gt_1_reports = db.incidents.count_documents({'$and': [{'totalReports':{'$gt': 1}}, {\"title\" : {'$regex' : \".*[hH]ate.*\"}}, {\"storedAt\": {'$lte': dateutil.parser.parse('2020-11-22 18:40:32.568000')}}]})\n",
    "print(\"HS incidents with > 1 report and HS in title: {}\".format(hs_incidents_gt_1_reports))"
   ]
  },
  {
   "cell_type": "code",
   "execution_count": 22,
   "metadata": {},
   "outputs": [],
   "source": [
    "# no longer necessary because if HS is in title..it applies to all reports\n",
    "# print(\"Incidents with multiple tags including hate speech (can't determine if reports are HS) : {}\".format(hs_incidents - (hs_incidents_1_report + hs_incidents_gt_1_reports)))"
   ]
  },
  {
   "cell_type": "code",
   "execution_count": 30,
   "metadata": {},
   "outputs": [
    {
     "name": "stdout",
     "output_type": "stream",
     "text": "558\n"
    }
   ],
   "source": [
    "#creating a list of HS incidents\n",
    "hs_incidents_1_report_list = list(db.incidents.find({'$and': [{'totalReports': 1}, {\"title\" : {'$regex' : \".*[hH]ate.*\"}}, {\"storedAt\": {'$lte': dateutil.parser.parse('2020-11-22 18:40:32.568000')}}]}))\n",
    "hs_incidents_gt_1_reports_list = list(db.incidents.find({'$and': [{'totalReports':{'$gt': 1}}, {\"title\" : {'$regex' : \".*[hH]ate.*\"}}, {\"storedAt\": {'$lte': dateutil.parser.parse('2020-11-22 18:40:32.568000')}}]}))\n",
    "hs_incidents_list = hs_incidents_1_report_list + hs_incidents_gt_1_reports_list\n",
    "print(len(hs_incidents_list))"
   ]
  },
  {
   "cell_type": "code",
   "execution_count": 31,
   "metadata": {},
   "outputs": [],
   "source": [
    "#creating a list of hs incident ids for cross referencing\n",
    "hs_incidents_ids = [str(incident[\"_id\"]) for incident in hs_incidents_list]"
   ]
  },
  {
   "cell_type": "code",
   "execution_count": 32,
   "metadata": {},
   "outputs": [
    {
     "name": "stdout",
     "output_type": "stream",
     "text": "Classifiable HS reports (has content in Burmese language and fetched after HS activation) : 207297\nNon null incident field in reports after HS activation : 4560\n"
    }
   ],
   "source": [
    "#finding reports with non null incidents after HS activation\n",
    "classifiable_hs_reports = db.reports.count_documents({'$and':[{\"metadata.hateSpeechScore\": { '$exists': True}}, {\"metadata.hateSpeechScore\":{'$ne' : None}}, {'$or' : [{\"_sourceNicknames\": [\"ct\"]}, {\"_sourceNicknames\": [\"fb\"]}]}, {\"fetchedAt\": {'$lte': dateutil.parser.parse('2020-11-22 18:40:32.568000')}}]})\n",
    "print(\"Classifiable HS reports (has content in Burmese language and fetched after HS activation) : {}\".format(classifiable_hs_reports))\n",
    "non_null_incidents_reports_after_hs_activation = db.reports.count_documents({'$and': [{\"_incident\":{'$exists':True}}, {\"_incident\": {'$nin': [None, \"\"]}}, {\"fetchedAt\": {'$lte': dateutil.parser.parse('2020-11-22 18:40:32.568000')}}]})\n",
    "print(\"Non null incident field in reports after HS activation : {}\".format(non_null_incidents_reports_after_hs_activation))\n",
    "\n",
    "non_null_incidents_reports_after_hs_activation_list = list(db.reports.find({'$and': [{\"_incident\":{'$exists':True}}, {\"_incident\": {'$nin': [None, \"\"]}},{\"fetchedAt\": {'$lte': dateutil.parser.parse('2020-11-22 18:40:32.568000')}}]}, {\"metadata.rawAPIResponse\":0}))"
   ]
  },
  {
   "cell_type": "code",
   "execution_count": 33,
   "metadata": {},
   "outputs": [
    {
     "name": "stdout",
     "output_type": "stream",
     "text": "Unique incidents created between the timeframe : 2006\n"
    }
   ],
   "source": [
    "#creating a incident ->reports dict\n",
    "incident_report_dict = defaultdict(list)\n",
    "for report in non_null_incidents_reports_after_hs_activation_list:\n",
    "    incident_report_dict[report[\"_incident\"]].append(report)\n",
    "print(\"Unique incidents created between the timeframe : {}\".format(len(incident_report_dict.keys())))"
   ]
  },
  {
   "cell_type": "code",
   "execution_count": 34,
   "metadata": {},
   "outputs": [
    {
     "name": "stdout",
     "output_type": "stream",
     "text": "# of HS incidents created in the timeframe that are referenced in the reports collection : 556\n"
    }
   ],
   "source": [
    "# finding intersection between HS incidents and reports that have incidents after HS activation\n",
    "report_incidents_ids = list(incident_report_dict.keys())\n",
    "hs_reports_incidents_ids =  list((set(report_incidents_ids) & set(hs_incidents_ids)))\n",
    "print(\"# of HS incidents created in the timeframe that are referenced in the reports collection : {}\".format(len(hs_reports_incidents_ids)))"
   ]
  },
  {
   "cell_type": "code",
   "execution_count": 36,
   "metadata": {},
   "outputs": [
    {
     "name": "stdout",
     "output_type": "stream",
     "text": "556\n"
    }
   ],
   "source": [
    "reports_in_hs_incidents = [v for k, v in incident_report_dict.items() if k in hs_reports_incidents_ids]\n",
    "print(len(reports_in_hs_incidents))"
   ]
  },
  {
   "cell_type": "code",
   "execution_count": 37,
   "metadata": {},
   "outputs": [
    {
     "name": "stdout",
     "output_type": "stream",
     "text": "Reports added to HS incidents after HS activation : 1092\n"
    }
   ],
   "source": [
    "reports_in_hs_incidents_dcntr = []  #flattening\n",
    "for reports in reports_in_hs_incidents:\n",
    "    reports_in_hs_incidents_dcntr.extend(reports)\n",
    "\n",
    "print(\"Reports added to HS incidents after HS activation : {}\".format(len(reports_in_hs_incidents_dcntr)))"
   ]
  },
  {
   "cell_type": "code",
   "execution_count": 59,
   "metadata": {},
   "outputs": [
    {
     "name": "stdout",
     "output_type": "stream",
     "text": "Classifiable reports with Burmese content : 308\n0.4187662\n0.6612645\n0.6589946\n0.6250412\n0.0395474\n0.2102991\n0.1878959\n0.1034690\n0.3965140\n0.6250412\n0.3085548\n0.2906475\n0.5998689\n0.6137972\n0.3449968\n0.3449968\n0.3102395\n0.4253385\n0.5668188\n0.5990355\n0.3223345\n0.5441911\n0.0649412\n0.4070938\n0.1110637\n0.4282093\n0.6115015\n0.4414824\n0.1390025\n0.5877479\n0.6523379\n0.6523379\n0.6157829\n0.5764497\n0.6330227\n0.5990355\n0.6177473\n0.6523379\n0.2250054\n0.1952075\n0.6250412\n0.4357739\n0.2407530\n0.2407530\n0.4038110\n0.5266472\n0.6250412\n0.6250412\n0.5064009\n0.4845784\n0.6250412\n0.6250412\n0.3356702\n0.4944970\n0.4577849\n0.2763283\n0.3462341\n0.6508911\n0.6268876\n0.4975824\n0.6250412\n0.2853244\n0.6407611\n0.3240748\n0.6494015\n0.2261694\n0.6455666\n0.4769876\n0.3345628\n0.6026775\n0.5047731\n0.6319404\n0.4444945\n0.6250412\n0.6250412\n0.6250412\n0.6250412\n0.6250412\n0.4137430\n0.5374610\n0.4028025\n0.6796886\n0.5924931\n0.4338130\n0.1605542\n0.3028748\n0.5326670\n0.6116683\n0.4643676\n0.3453172\n0.4281403\n0.6003332\n0.6250412\n0.6250412\n0.6268876\n0.6373385\n0.5235883\n0.6250412\n0.6250412\n0.3486591\n0.3486591\n0.5374610\n0.6796886\n0.4402572\n0.4312610\n0.6250412\n0.6250412\n0.5156159\n0.4558711\n0.6250412\n0.3690202\n0.3884563\n0.5199768\n0.1222457\n0.4912308\n0.2349914\n0.2855511\n0.6373385\n0.1700394\n0.5569582\n0.2575610\n0.0728361\n0.2575081\n0.4407552\n0.4383787\n0.2927836\n0.6397249\n0.6314144\n0.3969628\n0.5700703\n0.5700703\n0.3159678\n0.1308298\n0.5815690\n0.2552275\n0.1592095\n0.3752656\n0.5535136\n0.2838453\n0.2544179\n0.6268876\n0.2641755\n0.4153184\n0.5879477\n0.5879477\n0.2472330\n0.2472330\n0.4078386\n0.4914057\n0.6250412\n0.3752832\n0.2554122\n0.2554122\n0.5144725\n0.0309262\n0.3925214\n0.3950426\n0.3950426\n0.3855586\n0.2478342\n0.0674995\n0.0674995\n0.0674995\n0.0674995\n0.1854048\n0.3649507\n0.0674995\n0.3800259\n0.4628608\n0.6250412\n0.6250412\n0.4414649\n0.5639012\n0.5447398\n0.5447398\n0.3408238\n0.3614314\n0.4085341\n0.3780120\n0.4171014\n0.5162710\n0.4710456\n0.6250412\n0.2745322\n0.6250412\n0.5785709\n0.5027814\n0.6250412\n0.6397249\n0.5131943\n0.5573300\n0.2243204\n0.6250412\n0.6373385\n0.5057220\n0.5727280\n0.3899791\n0.5029046\n0.1958417\n0.6250412\n0.6250412\n0.6250412\n0.6250412\n0.6314144\n0.6250412\n0.6250412\n0.6250412\n0.6250412\n0.6250412\n0.3051956\n0.6074602\n0.5750586\n0.6250412\n0.6250412\n0.2006610\n0.6250412\n0.1875469\n0.2846224\n0.1577644\n0.5675781\n0.5675781\n0.5675781\n0.6250412\n0.6250412\n0.1095734\n0.1445530\n0.6847891\n0.2099360\n0.3793666\n0.4881358\n0.6075396\n0.3670723\n0.4898515\n0.3307336\n0.6250412\n0.5700703\n0.3429441\n0.5195715\n0.4086906\n0.6250412\n0.6250412\n0.5579847\n0.4646781\n0.2502066\n0.6250412\n0.5700703\n0.4453984\n0.6250412\n0.4984809\n0.2757990\n0.4413338\n0.6250412\n0.3987890\n0.6142440\n0.6250412\n0.3864131\n0.6250412\n0.5042750\n0.3374743\n0.3374743\n0.6250412\n0.6250412\n0.3554250\n0.6250412\n0.1091569\n0.1091569\n0.1091569\n0.1091569\n0.1091569\n0.1091569\n0.1091569\n0.4917897\n0.6250412\n0.2714875\n0.6192712\n0.6250412\n0.5719074\n0.1733583\n0.6074602\n0.6250412\n0.6244078\n0.5719074\n0.6370683\n0.6230349\n0.2221005\n0.6252227\n0.6239399\n0.6239399\n0.6239399\n0.6239399\n0.0410872\n0.6250412\n0.4502203\n0.2328175\n0.6250412\n0.6097949\n0.6097949\n0.4669282\n0.5416864\n0.2850584\n0.6250412\n0.4295111\n0.6250412\n0.3553015\n0.3345052\n0.1566736\n0.3880108\n0.0489390\n"
    }
   ],
   "source": [
    "reports_in_hs_incidents_with_burmese = [r for r in reports_in_hs_incidents_dcntr if \"hateSpeechScore\" in r[\"metadata\"] and r[\"metadata\"][\"hateSpeechScore\"] is not None]\n",
    "print(\"Classifiable reports with Burmese content : {}\".format(len(reports_in_hs_incidents_with_burmese)))\n",
    "# for r in reports_in_hs_incidents_with_burmese:\n",
    "#     print(str(r[\"metadata\"][\"hateSpeechScore\"]) + \",\")\n",
    "for r in reports_in_hs_incidents_with_burmese:\n",
    "    print(\"{:.7f}\".format(r[\"metadata\"][\"hateSpeechScore\"]))"
   ]
  },
  {
   "cell_type": "code",
   "execution_count": 47,
   "metadata": {},
   "outputs": [
    {
     "name": "stdout",
     "output_type": "stream",
     "text": "Classifiable reports with Burmese content in HS incidents with HS score > 0.45: 171 (0.5551948051948052)\n"
    }
   ],
   "source": [
    "classifiable_reports_in_hs_incidents_45 = [r for r in reports_in_hs_incidents_with_burmese if r[\"metadata\"][\"hateSpeechScore\"] >= 0.45]\n",
    "print(\"Classifiable reports with Burmese content in HS incidents with HS score > 0.45: {} ({})\".format(len(classifiable_reports_in_hs_incidents_45), len(classifiable_reports_in_hs_incidents_45)/len(reports_in_hs_incidents_with_burmese)))"
   ]
  },
  {
   "cell_type": "code",
   "execution_count": null,
   "metadata": {},
   "outputs": [],
   "source": []
  }
 ]
}