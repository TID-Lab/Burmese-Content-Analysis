{
 "nbformat": 4,
 "nbformat_minor": 2,
 "metadata": {
  "language_info": {
   "name": "python",
   "codemirror_mode": {
    "name": "ipython",
    "version": 3
   },
   "version": "3.7.2-final"
  },
  "orig_nbformat": 2,
  "file_extension": ".py",
  "mimetype": "text/x-python",
  "name": "python",
  "npconvert_exporter": "python",
  "pygments_lexer": "ipython3",
  "version": 3,
  "kernelspec": {
   "name": "python36964bit3713edbbeed04814bf2c2b942a570b08",
   "display_name": "Python 3.6.9 64-bit"
  }
 },
 "cells": [
  {
   "cell_type": "code",
   "execution_count": 49,
   "metadata": {},
   "outputs": [],
   "source": [
    "from pymongo import MongoClient\n",
    "from pprint import pprint\n",
    "from bson.objectid import ObjectId\n",
    "from collections import defaultdict\n",
    "import dateutil\n",
    "import json"
   ]
  },
  {
   "cell_type": "code",
   "execution_count": 56,
   "metadata": {},
   "outputs": [],
   "source": [
    "with open(\"secrets.json\", \"r\") as secrets:\n",
    "    mongo_uri = json.load(secrets)[\"mongo_uri\"]\n"
   ]
  },
  {
   "cell_type": "code",
   "execution_count": 51,
   "metadata": {},
   "outputs": [],
   "source": [
    "client = MongoClient(mongo_uri)\n",
    "db=client.aggie"
   ]
  },
  {
   "cell_type": "code",
   "execution_count": 52,
   "metadata": {},
   "outputs": [
    {
     "name": "stdout",
     "output_type": "stream",
     "text": "225289\n"
    }
   ],
   "source": [
    "# testing connection\n",
    "facebook = db.reports.count_documents({'$and': [{'_sourceNicknames': [\"ct\"]}]})\n",
    "print(facebook)"
   ]
  },
  {
   "cell_type": "code",
   "execution_count": 5,
   "metadata": {},
   "outputs": [
    {
     "name": "stdout",
     "output_type": "stream",
     "text": "First Hate Speech report fetched at : 2020-08-05 06:01:12.969000\n"
    }
   ],
   "source": [
    "# find start date/time for HS activation\n",
    "\n",
    "hs_reports_sorted = db.reports.find({'$and':[{\"metadata.hateSpeechScore\": { '$exists': True}}]}, {'metadata.rawAPIResponse': 0}).sort([(\"fetchedAt\", 1)])\n",
    "print(\"First Hate Speech report fetched at : \" + str(hs_reports_sorted.next()['fetchedAt']))\n"
   ]
  },
  {
   "cell_type": "code",
   "execution_count": 19,
   "metadata": {},
   "outputs": [
    {
     "name": "stdout",
     "output_type": "stream",
     "text": "Total Reports : 551676\n"
    }
   ],
   "source": [
    "total_reports = db.reports.count_documents({})\n",
    "print(\"Total Reports : {}\".format(total_reports))"
   ]
  },
  {
   "cell_type": "code",
   "execution_count": 18,
   "metadata": {},
   "outputs": [
    {
     "name": "stdout",
     "output_type": "stream",
     "text": "502454\n"
    }
   ],
   "source": [
    "#verify that all reports after hs activation have hs field\n",
    "num_reports_after_hs_activation = db.reports.count_documents({'$and':[{'$or':[{\"_sourceNicknames\": [\"fb\"]}, {\"_sourceNicknames\": [\"ct\"]}]}, {'fetchedAt':{'$lte': dateutil.parser.parse('2020-11-22 18:40:32.568000')}}]})\n",
    "total_hs_reports = db.reports.count_documents({'$and':[{\"metadata.hateSpeechScore\": { '$exists': True}},   {'$or' : [{\"_sourceNicknames\": [\"ct\"]}, {\"_sourceNicknames\": [\"fb\"]}]},{'fetchedAt':{'$lte': dateutil.parser.parse('2020-11-22 18:40:32.568000')}}]})\n",
    "print(num_reports_after_hs_activation)\n",
    "assert(num_reports_after_hs_activation == total_hs_reports)"
   ]
  },
  {
   "cell_type": "code",
   "execution_count": 20,
   "metadata": {},
   "outputs": [
    {
     "name": "stdout",
     "output_type": "stream",
     "text": "Total non null HS FB reports : 207297\n"
    }
   ],
   "source": [
    "# None HS score means that the report is in non Burmese language or does not have any content\n",
    "non_null_hs_reports_count = db.reports.count_documents({'$and':[{\"metadata.hateSpeechScore\": { '$exists': True}}, {\"metadata.hateSpeechScore\":{'$ne' : None}}, {'$or' : [{\"_sourceNicknames\": [\"ct\"]}, {\"_sourceNicknames\": [\"fb\"]}]}, {'fetchedAt':{'$lte': dateutil.parser.parse('2020-11-22 18:40:32.568000')}}]})\n",
    "print(\"Total non null HS FB reports : \" + str(non_null_hs_reports_count))\n",
    "# hs_reports_sorted = db.reports.find_one({'$and': [{'fetchedAt':{'$gte': dateutil.parser.parse('2020-10-16T00:00:00.000+00:00')}},{\"metadata.hateSpeechScore\": { '$exists': True}}, {\"metadata.hateSpeechScore\":{'$ne' : None}}]}, {'metadata.rawAPIResponse': 0})\n",
    "# pprint(hs_reports_sorted)"
   ]
  },
  {
   "cell_type": "code",
   "execution_count": 21,
   "metadata": {},
   "outputs": [
    {
     "name": "stdout",
     "output_type": "stream",
     "text": "Total non null HS FB reports read: 93058 (0.44891146519245334)\n"
    }
   ],
   "source": [
    "#Read/Unread\n",
    "non_null_hs_reports_read_count = db.reports.count_documents({'$and':[{\"metadata.hateSpeechScore\": { '$exists': True}}, {\"metadata.hateSpeechScore\":{'$ne' : None}}, {'$or' : [{\"_sourceNicknames\": [\"ct\"]}, {\"_sourceNicknames\": [\"fb\"]}]}, {\"read\": True}, {\"fetchedAt\": {'$lte': dateutil.parser.parse('2020-11-22 18:40:32.568000')}}]})\n",
    "print(\"Total non null HS FB reports read: {} ({})\".format(str(non_null_hs_reports_read_count), non_null_hs_reports_read_count/non_null_hs_reports_count))"
   ]
  },
  {
   "cell_type": "code",
   "execution_count": 22,
   "metadata": {},
   "outputs": [
    {
     "name": "stdout",
     "output_type": "stream",
     "text": "Total non null HS FB reports 0.45: 45209 (0.48581529798620215)\n"
    }
   ],
   "source": [
    "hs_reports_45 = db.reports.count_documents({'$and':[{'$or' : [{\"_sourceNicknames\": [\"ct\"]}, {\"_sourceNicknames\": [\"fb\"]}]}, {\"metadata.hateSpeechScore\":{'$gte':0.45}}, {\"read\": True}, {\"fetchedAt\": {'$lte': dateutil.parser.parse('2020-11-22 18:40:32.568000')}}]})\n",
    "print(\"Total non null HS FB reports 0.45: {} ({})\".format(hs_reports_45, hs_reports_45/non_null_hs_reports_read_count))\n"
   ]
  },
  {
   "cell_type": "code",
   "execution_count": 24,
   "metadata": {},
   "outputs": [
    {
     "name": "stdout",
     "output_type": "stream",
     "text": "Total non null HS FB reports 0.55: 29681 (0.31895162156934387)\n"
    }
   ],
   "source": [
    "hs_reports_55 = db.reports.count_documents({'$and':[{'$or' : [{\"_sourceNicknames\": [\"ct\"]}, {\"_sourceNicknames\": [\"fb\"]}]}, {\"metadata.hateSpeechScore\":{'$gte':0.55}}, {\"read\": True}, {\"fetchedAt\": {'$lte': dateutil.parser.parse('2020-11-22 18:40:32.568000')}}]})\n",
    "print(\"Total non null HS FB reports 0.55: {} ({})\".format(hs_reports_55, hs_reports_55/non_null_hs_reports_read_count))"
   ]
  },
  {
   "cell_type": "code",
   "execution_count": 25,
   "metadata": {},
   "outputs": [
    {
     "name": "stdout",
     "output_type": "stream",
     "text": "Total non null HS FB reports 0.65: 1010 (0.01085344623783017)\n"
    }
   ],
   "source": [
    "hs_reports_65 = db.reports.count_documents({'$and':[{'$or' : [{\"_sourceNicknames\": [\"ct\"]}, {\"_sourceNicknames\": [\"fb\"]}]}, {\"metadata.hateSpeechScore\":{'$gte':0.65}}, {\"read\": True}, {\"fetchedAt\": {'$lte': dateutil.parser.parse('2020-11-22 18:40:32.568000')}}]})\n",
    "print(\"Total non null HS FB reports 0.65: {} ({})\".format(hs_reports_65, hs_reports_65/non_null_hs_reports_read_count))"
   ]
  },
  {
   "cell_type": "code",
   "execution_count": 26,
   "metadata": {},
   "outputs": [
    {
     "name": "stdout",
     "output_type": "stream",
     "text": "HS incidents : 566\n"
    }
   ],
   "source": [
    "# total incidents with \"hate\" in title\n",
    "hs_incidents = db.incidents.count_documents({'$and':[{\"title\": {\"$regex\": \".*[hH]ate.*\"}}, {\"storedAt\": {'$lte': dateutil.parser.parse('2020-11-22 18:40:32.568000')}}]})\n",
    "print(\"HS incidents : {}\".format(hs_incidents))\n"
   ]
  },
  {
   "cell_type": "code",
   "execution_count": 27,
   "metadata": {},
   "outputs": [
    {
     "name": "stdout",
     "output_type": "stream",
     "text": "HS incidents with 0 reports: 8\n"
    }
   ],
   "source": [
    "#hate speech incidents with 0 report and hate speech in title\n",
    "hs_incidents_0_reports = db.incidents.count_documents({'$and': [{'totalReports': 0}, {\"title\" : {'$regex' : \".*[hH]ate.*\"}}, {\"storedAt\": {'$lte': dateutil.parser.parse('2020-11-22 18:40:32.568000')}}]})\n",
    "print(\"HS incidents with 0 reports: {}\".format(hs_incidents_0_reports))"
   ]
  },
  {
   "cell_type": "code",
   "execution_count": 28,
   "metadata": {},
   "outputs": [
    {
     "name": "stdout",
     "output_type": "stream",
     "text": "HS incidents with 1 report : 433\n"
    }
   ],
   "source": [
    "#hate speech incidents with only 1 report\n",
    "hs_incidents_1_report = db.incidents.count_documents({'$and': [{'totalReports': 1}, {\"title\" : {'$regex' : \".*[hH]ate.*\"}}, {\"storedAt\": {'$lte': dateutil.parser.parse('2020-11-22 18:40:32.568000')}}]})\n",
    "print(\"HS incidents with 1 report : {}\".format(hs_incidents_1_report))"
   ]
  },
  {
   "cell_type": "code",
   "execution_count": 29,
   "metadata": {},
   "outputs": [
    {
     "name": "stdout",
     "output_type": "stream",
     "text": "HS incidents with > 1 report and HS in title: 125\n"
    }
   ],
   "source": [
    "#hate speech incidents with > 1 report and hate speech in title\n",
    "hs_incidents_gt_1_reports = db.incidents.count_documents({'$and': [{'totalReports':{'$gt': 1}}, {\"title\" : {'$regex' : \".*[hH]ate.*\"}}, {\"storedAt\": {'$lte': dateutil.parser.parse('2020-11-22 18:40:32.568000')}}]})\n",
    "print(\"HS incidents with > 1 report and HS in title: {}\".format(hs_incidents_gt_1_reports))"
   ]
  },
  {
   "cell_type": "code",
   "execution_count": 22,
   "metadata": {},
   "outputs": [],
   "source": [
    "# no longer necessary because if HS is in title..it applies to all reports\n",
    "# print(\"Incidents with multiple tags including hate speech (can't determine if reports are HS) : {}\".format(hs_incidents - (hs_incidents_1_report + hs_incidents_gt_1_reports)))"
   ]
  },
  {
   "cell_type": "code",
   "execution_count": 30,
   "metadata": {},
   "outputs": [
    {
     "name": "stdout",
     "output_type": "stream",
     "text": "558\n"
    }
   ],
   "source": [
    "#creating a list of HS incidents\n",
    "hs_incidents_1_report_list = list(db.incidents.find({'$and': [{'totalReports': 1}, {\"title\" : {'$regex' : \".*[hH]ate.*\"}}, {\"storedAt\": {'$lte': dateutil.parser.parse('2020-11-22 18:40:32.568000')}}]}))\n",
    "hs_incidents_gt_1_reports_list = list(db.incidents.find({'$and': [{'totalReports':{'$gt': 1}}, {\"title\" : {'$regex' : \".*[hH]ate.*\"}}, {\"storedAt\": {'$lte': dateutil.parser.parse('2020-11-22 18:40:32.568000')}}]}))\n",
    "hs_incidents_list = hs_incidents_1_report_list + hs_incidents_gt_1_reports_list\n",
    "print(len(hs_incidents_list))"
   ]
  },
  {
   "cell_type": "code",
   "execution_count": 31,
   "metadata": {},
   "outputs": [],
   "source": [
    "#creating a list of hs incident ids for cross referencing\n",
    "hs_incidents_ids = [str(incident[\"_id\"]) for incident in hs_incidents_list]"
   ]
  },
  {
   "cell_type": "code",
   "execution_count": 32,
   "metadata": {},
   "outputs": [
    {
     "name": "stdout",
     "output_type": "stream",
     "text": "Classifiable HS reports (has content in Burmese language and fetched after HS activation) : 207297\nNon null incident field in reports after HS activation : 4560\n"
    }
   ],
   "source": [
    "#finding reports with non null incidents after HS activation\n",
    "classifiable_hs_reports = db.reports.count_documents({'$and':[{\"metadata.hateSpeechScore\": { '$exists': True}}, {\"metadata.hateSpeechScore\":{'$ne' : None}}, {'$or' : [{\"_sourceNicknames\": [\"ct\"]}, {\"_sourceNicknames\": [\"fb\"]}]}, {\"fetchedAt\": {'$lte': dateutil.parser.parse('2020-11-22 18:40:32.568000')}}]})\n",
    "print(\"Classifiable HS reports (has content in Burmese language and fetched after HS activation) : {}\".format(classifiable_hs_reports))\n",
    "non_null_incidents_reports_after_hs_activation = db.reports.count_documents({'$and': [{\"_incident\":{'$exists':True}}, {\"_incident\": {'$nin': [None, \"\"]}}, {\"fetchedAt\": {'$lte': dateutil.parser.parse('2020-11-22 18:40:32.568000')}}]})\n",
    "print(\"Non null incident field in reports after HS activation : {}\".format(non_null_incidents_reports_after_hs_activation))\n",
    "\n",
    "non_null_incidents_reports_after_hs_activation_list = list(db.reports.find({'$and': [{\"_incident\":{'$exists':True}}, {\"_incident\": {'$nin': [None, \"\"]}},{\"fetchedAt\": {'$lte': dateutil.parser.parse('2020-11-22 18:40:32.568000')}}]}, {\"metadata.rawAPIResponse\":0}))"
   ]
  },
  {
   "cell_type": "code",
   "execution_count": 33,
   "metadata": {},
   "outputs": [
    {
     "name": "stdout",
     "output_type": "stream",
     "text": "Unique incidents created between the timeframe : 2006\n"
    }
   ],
   "source": [
    "#creating a incident ->reports dict\n",
    "incident_report_dict = defaultdict(list)\n",
    "for report in non_null_incidents_reports_after_hs_activation_list:\n",
    "    incident_report_dict[report[\"_incident\"]].append(report)\n",
    "print(\"Unique incidents created between the timeframe : {}\".format(len(incident_report_dict.keys())))"
   ]
  },
  {
   "cell_type": "code",
   "execution_count": 34,
   "metadata": {},
   "outputs": [
    {
     "name": "stdout",
     "output_type": "stream",
     "text": "# of HS incidents created in the timeframe that are referenced in the reports collection : 556\n"
    }
   ],
   "source": [
    "# finding intersection between HS incidents and reports that have incidents after HS activation\n",
    "report_incidents_ids = list(incident_report_dict.keys())\n",
    "hs_reports_incidents_ids =  list((set(report_incidents_ids) & set(hs_incidents_ids)))\n",
    "print(\"# of HS incidents created in the timeframe that are referenced in the reports collection : {}\".format(len(hs_reports_incidents_ids)))"
   ]
  },
  {
   "cell_type": "code",
   "execution_count": 36,
   "metadata": {},
   "outputs": [
    {
     "name": "stdout",
     "output_type": "stream",
     "text": "556\n"
    }
   ],
   "source": [
    "reports_in_hs_incidents = [v for k, v in incident_report_dict.items() if k in hs_reports_incidents_ids]\n",
    "print(len(reports_in_hs_incidents))"
   ]
  },
  {
   "cell_type": "code",
   "execution_count": 37,
   "metadata": {},
   "outputs": [
    {
     "name": "stdout",
     "output_type": "stream",
     "text": "Reports added to HS incidents after HS activation : 1092\n"
    }
   ],
   "source": [
    "reports_in_hs_incidents_dcntr = []  #flattening\n",
    "for reports in reports_in_hs_incidents:\n",
    "    reports_in_hs_incidents_dcntr.extend(reports)\n",
    "\n",
    "print(\"Reports added to HS incidents after HS activation : {}\".format(len(reports_in_hs_incidents_dcntr)))"
   ]
  },
  {
   "cell_type": "code",
   "execution_count": 42,
   "metadata": {},
   "outputs": [
    {
     "name": "stdout",
     "output_type": "stream",
     "text": "Classifiable reports with Burmese content : 308\n"
    }
   ],
   "source": [
    "reports_in_hs_incidents_with_burmese = [r for r in reports_in_hs_incidents_dcntr if \"hateSpeechScore\" in r[\"metadata\"] and r[\"metadata\"][\"hateSpeechScore\"] is not None]\n",
    "print(\"Classifiable reports with Burmese content : {}\".format(len(reports_in_hs_incidents_with_burmese)))\n",
    "# for r in reports_in_hs_incidents_with_burmese:\n",
    "#     print(str(r[\"metadata\"][\"hateSpeechScore\"]) + \",\")"
   ]
  },
  {
   "cell_type": "code",
   "execution_count": 47,
   "metadata": {},
   "outputs": [
    {
     "name": "stdout",
     "output_type": "stream",
     "text": "Classifiable reports with Burmese content in HS incidents with HS score > 0.45: 171 (0.5551948051948052)\n"
    }
   ],
   "source": [
    "classifiable_reports_in_hs_incidents_45 = [r for r in reports_in_hs_incidents_with_burmese if r[\"metadata\"][\"hateSpeechScore\"] >= 0.45]\n",
    "print(\"Classifiable reports with Burmese content in HS incidents with HS score > 0.45: {} ({})\".format(len(classifiable_reports_in_hs_incidents_45), len(classifiable_reports_in_hs_incidents_45)/len(reports_in_hs_incidents_with_burmese)))"
   ]
  },
  {
   "cell_type": "code",
   "execution_count": null,
   "metadata": {},
   "outputs": [],
   "source": []
  }
 ]
}