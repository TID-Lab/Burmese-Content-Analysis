{
 "nbformat": 4,
 "nbformat_minor": 2,
 "metadata": {
  "language_info": {
   "name": "python",
   "codemirror_mode": {
    "name": "ipython",
    "version": 3
   },
   "version": "3.7.2-final"
  },
  "orig_nbformat": 2,
  "file_extension": ".py",
  "mimetype": "text/x-python",
  "name": "python",
  "npconvert_exporter": "python",
  "pygments_lexer": "ipython3",
  "version": 3,
  "kernelspec": {
   "name": "python36964bit3713edbbeed04814bf2c2b942a570b08",
   "display_name": "Python 3.6.9 64-bit"
  }
 },
 "cells": [
  {
   "cell_type": "code",
   "execution_count": 3,
   "metadata": {},
   "outputs": [],
   "source": [
    "from pymongo import MongoClient\n",
    "from pprint import pprint\n",
    "from bson.objectid import ObjectId\n",
    "from collections import defaultdict\n",
    "import dateutil\n",
    "import json"
   ]
  },
  {
   "cell_type": "code",
   "execution_count": 4,
   "metadata": {},
   "outputs": [],
   "source": [
    "with open(\"secrets.json\", \"r\") as secrets:\n",
    "    mongo_uri = json.load(secrets)[\"mongo_uri\"]\n"
   ]
  },
  {
   "cell_type": "code",
   "execution_count": 3,
   "metadata": {},
   "outputs": [],
   "source": [
    "client = MongoClient(mongo_uri)\n",
    "db=client.aggie"
   ]
  },
  {
   "cell_type": "code",
   "execution_count": 52,
   "metadata": {},
   "outputs": [
    {
     "name": "stdout",
     "output_type": "stream",
     "text": "225289\n"
    }
   ],
   "source": [
    "# testing connection\n",
    "facebook = db.reports.count_documents({'$and': [{'_sourceNicknames': [\"ct\"]}]})\n",
    "print(facebook)"
   ]
  },
  {
   "cell_type": "code",
   "execution_count": 5,
   "metadata": {},
   "outputs": [
    {
     "name": "stdout",
     "output_type": "stream",
     "text": "First Hate Speech report fetched at : 2020-08-05 06:01:12.969000\n"
    }
   ],
   "source": [
    "# find start date/time for HS activation\n",
    "\n",
    "hs_reports_sorted = db.reports.find({'$and':[{\"metadata.hateSpeechScore\": { '$exists': True}}]}, {'metadata.rawAPIResponse': 0}).sort([(\"fetchedAt\", 1)])\n",
    "print(\"First Hate Speech report fetched at : \" + str(hs_reports_sorted.next()['fetchedAt']))\n"
   ]
  },
  {
   "cell_type": "code",
   "execution_count": 19,
   "metadata": {},
   "outputs": [
    {
     "name": "stdout",
     "output_type": "stream",
     "text": "Total Reports : 551676\n"
    }
   ],
   "source": [
    "total_reports = db.reports.count_documents({})\n",
    "print(\"Total Reports : {}\".format(total_reports))"
   ]
  },
  {
   "cell_type": "code",
   "execution_count": 18,
   "metadata": {},
   "outputs": [
    {
     "name": "stdout",
     "output_type": "stream",
     "text": "502454\n"
    }
   ],
   "source": [
    "#verify that all reports after hs activation have hs field\n",
    "num_reports_after_hs_activation = db.reports.count_documents({'$and':[{'$or':[{\"_sourceNicknames\": [\"fb\"]}, {\"_sourceNicknames\": [\"ct\"]}]}, {'fetchedAt':{'$lte': dateutil.parser.parse('2020-11-22 18:40:32.568000')}}]})\n",
    "total_hs_reports = db.reports.count_documents({'$and':[{\"metadata.hateSpeechScore\": { '$exists': True}},   {'$or' : [{\"_sourceNicknames\": [\"ct\"]}, {\"_sourceNicknames\": [\"fb\"]}]},{'fetchedAt':{'$lte': dateutil.parser.parse('2020-11-22 18:40:32.568000')}}]})\n",
    "print(num_reports_after_hs_activation)\n",
    "assert(num_reports_after_hs_activation == total_hs_reports)"
   ]
  },
  {
   "cell_type": "code",
   "execution_count": 20,
   "metadata": {},
   "outputs": [
    {
     "name": "stdout",
     "output_type": "stream",
     "text": "Total non null HS FB reports : 207297\n"
    }
   ],
   "source": [
    "# None HS score means that the report is in non Burmese language or does not have any content\n",
    "non_null_hs_reports_count = db.reports.count_documents({'$and':[{\"metadata.hateSpeechScore\": { '$exists': True}}, {\"metadata.hateSpeechScore\":{'$ne' : None}}, {'$or' : [{\"_sourceNicknames\": [\"ct\"]}, {\"_sourceNicknames\": [\"fb\"]}]}, {'fetchedAt':{'$lte': dateutil.parser.parse('2020-11-22 18:40:32.568000')}}]})\n",
    "print(\"Total non null HS FB reports : \" + str(non_null_hs_reports_count))\n",
    "# hs_reports_sorted = db.reports.find_one({'$and': [{'fetchedAt':{'$gte': dateutil.parser.parse('2020-10-16T00:00:00.000+00:00')}},{\"metadata.hateSpeechScore\": { '$exists': True}}, {\"metadata.hateSpeechScore\":{'$ne' : None}}]}, {'metadata.rawAPIResponse': 0})\n",
    "# pprint(hs_reports_sorted)"
   ]
  },
  {
   "cell_type": "code",
   "execution_count": 21,
   "metadata": {},
   "outputs": [
    {
     "name": "stdout",
     "output_type": "stream",
     "text": "Total non null HS FB reports read: 93058 (0.44891146519245334)\n"
    }
   ],
   "source": [
    "#Read/Unread\n",
    "non_null_hs_reports_read_count = db.reports.count_documents({'$and':[{\"metadata.hateSpeechScore\": { '$exists': True}}, {\"metadata.hateSpeechScore\":{'$ne' : None}}, {'$or' : [{\"_sourceNicknames\": [\"ct\"]}, {\"_sourceNicknames\": [\"fb\"]}]}, {\"read\": True}, {\"fetchedAt\": {'$lte': dateutil.parser.parse('2020-11-22 18:40:32.568000')}}]})\n",
    "print(\"Total non null HS FB reports read: {} ({})\".format(str(non_null_hs_reports_read_count), non_null_hs_reports_read_count/non_null_hs_reports_count))"
   ]
  },
  {
   "cell_type": "code",
   "execution_count": 22,
   "metadata": {},
   "outputs": [
    {
     "name": "stdout",
     "output_type": "stream",
     "text": "Total non null HS FB reports 0.45: 45209 (0.48581529798620215)\n"
    }
   ],
   "source": [
    "hs_reports_45 = db.reports.count_documents({'$and':[{'$or' : [{\"_sourceNicknames\": [\"ct\"]}, {\"_sourceNicknames\": [\"fb\"]}]}, {\"metadata.hateSpeechScore\":{'$gte':0.45}}, {\"read\": True}, {\"fetchedAt\": {'$lte': dateutil.parser.parse('2020-11-22 18:40:32.568000')}}]})\n",
    "print(\"Total non null HS FB reports 0.45: {} ({})\".format(hs_reports_45, hs_reports_45/non_null_hs_reports_read_count))\n"
   ]
  },
  {
   "cell_type": "code",
   "execution_count": 24,
   "metadata": {},
   "outputs": [
    {
     "name": "stdout",
     "output_type": "stream",
     "text": "Total non null HS FB reports 0.55: 29681 (0.31895162156934387)\n"
    }
   ],
   "source": [
    "hs_reports_55 = db.reports.count_documents({'$and':[{'$or' : [{\"_sourceNicknames\": [\"ct\"]}, {\"_sourceNicknames\": [\"fb\"]}]}, {\"metadata.hateSpeechScore\":{'$gte':0.55}}, {\"read\": True}, {\"fetchedAt\": {'$lte': dateutil.parser.parse('2020-11-22 18:40:32.568000')}}]})\n",
    "print(\"Total non null HS FB reports 0.55: {} ({})\".format(hs_reports_55, hs_reports_55/non_null_hs_reports_read_count))"
   ]
  },
  {
   "cell_type": "code",
   "execution_count": 25,
   "metadata": {},
   "outputs": [
    {
     "name": "stdout",
     "output_type": "stream",
     "text": "Total non null HS FB reports 0.65: 1010 (0.01085344623783017)\n"
    }
   ],
   "source": [
    "hs_reports_65 = db.reports.count_documents({'$and':[{'$or' : [{\"_sourceNicknames\": [\"ct\"]}, {\"_sourceNicknames\": [\"fb\"]}]}, {\"metadata.hateSpeechScore\":{'$gte':0.65}}, {\"read\": True}, {\"fetchedAt\": {'$lte': dateutil.parser.parse('2020-11-22 18:40:32.568000')}}]})\n",
    "print(\"Total non null HS FB reports 0.65: {} ({})\".format(hs_reports_65, hs_reports_65/non_null_hs_reports_read_count))"
   ]
  },
  {
   "cell_type": "code",
   "execution_count": 26,
   "metadata": {},
   "outputs": [
    {
     "name": "stdout",
     "output_type": "stream",
     "text": "HS incidents : 566\n"
    }
   ],
   "source": [
    "# total incidents with \"hate\" in title\n",
    "hs_incidents = db.incidents.count_documents({'$and':[{\"title\": {\"$regex\": \".*[hH]ate.*\"}}, {\"storedAt\": {'$lte': dateutil.parser.parse('2020-11-22 18:40:32.568000')}}]})\n",
    "print(\"HS incidents : {}\".format(hs_incidents))\n"
   ]
  },
  {
   "cell_type": "code",
   "execution_count": 27,
   "metadata": {},
   "outputs": [
    {
     "name": "stdout",
     "output_type": "stream",
     "text": "HS incidents with 0 reports: 8\n"
    }
   ],
   "source": [
    "#hate speech incidents with 0 report and hate speech in title\n",
    "hs_incidents_0_reports = db.incidents.count_documents({'$and': [{'totalReports': 0}, {\"title\" : {'$regex' : \".*[hH]ate.*\"}}, {\"storedAt\": {'$lte': dateutil.parser.parse('2020-11-22 18:40:32.568000')}}]})\n",
    "print(\"HS incidents with 0 reports: {}\".format(hs_incidents_0_reports))"
   ]
  },
  {
   "cell_type": "code",
   "execution_count": 28,
   "metadata": {},
   "outputs": [
    {
     "name": "stdout",
     "output_type": "stream",
     "text": "HS incidents with 1 report : 433\n"
    }
   ],
   "source": [
    "#hate speech incidents with only 1 report\n",
    "hs_incidents_1_report = db.incidents.count_documents({'$and': [{'totalReports': 1}, {\"title\" : {'$regex' : \".*[hH]ate.*\"}}, {\"storedAt\": {'$lte': dateutil.parser.parse('2020-11-22 18:40:32.568000')}}]})\n",
    "print(\"HS incidents with 1 report : {}\".format(hs_incidents_1_report))"
   ]
  },
  {
   "cell_type": "code",
   "execution_count": 29,
   "metadata": {},
   "outputs": [
    {
     "name": "stdout",
     "output_type": "stream",
     "text": "HS incidents with > 1 report and HS in title: 125\n"
    }
   ],
   "source": [
    "#hate speech incidents with > 1 report and hate speech in title\n",
    "hs_incidents_gt_1_reports = db.incidents.count_documents({'$and': [{'totalReports':{'$gt': 1}}, {\"title\" : {'$regex' : \".*[hH]ate.*\"}}, {\"storedAt\": {'$lte': dateutil.parser.parse('2020-11-22 18:40:32.568000')}}]})\n",
    "print(\"HS incidents with > 1 report and HS in title: {}\".format(hs_incidents_gt_1_reports))"
   ]
  },
  {
   "cell_type": "code",
   "execution_count": 22,
   "metadata": {},
   "outputs": [],
   "source": [
    "# no longer necessary because if HS is in title..it applies to all reports\n",
    "# print(\"Incidents with multiple tags including hate speech (can't determine if reports are HS) : {}\".format(hs_incidents - (hs_incidents_1_report + hs_incidents_gt_1_reports)))"
   ]
  },
  {
   "cell_type": "code",
   "execution_count": 9,
   "metadata": {},
   "outputs": [
    {
     "name": "stdout",
     "output_type": "stream",
     "text": "558\n"
    }
   ],
   "source": [
    "#creating a list of HS incidents\n",
    "hs_incidents_1_report_list = list(db.incidents.find({'$and': [{'totalReports': 1}, {\"title\" : {'$regex' : \".*[hH]ate.*\"}}, {\"storedAt\": {'$lte': dateutil.parser.parse('2020-11-22 18:40:32.568000')}}]}))\n",
    "hs_incidents_gt_1_reports_list = list(db.incidents.find({'$and': [{'totalReports':{'$gt': 1}}, {\"title\" : {'$regex' : \".*[hH]ate.*\"}}, {\"storedAt\": {'$lte': dateutil.parser.parse('2020-11-22 18:40:32.568000')}}]}))\n",
    "hs_incidents_list = hs_incidents_1_report_list + hs_incidents_gt_1_reports_list\n",
    "print(len(hs_incidents_list))"
   ]
  },
  {
   "cell_type": "code",
   "execution_count": 10,
   "metadata": {},
   "outputs": [],
   "source": [
    "#creating a list of hs incident ids for cross referencing\n",
    "hs_incidents_ids = [str(incident[\"_id\"]) for incident in hs_incidents_list]"
   ]
  },
  {
   "cell_type": "code",
   "execution_count": 11,
   "metadata": {},
   "outputs": [
    {
     "name": "stdout",
     "output_type": "stream",
     "text": "Classifiable HS reports (has content in Burmese language and fetched after HS activation) : 207297\nNon null incident field in reports after HS activation : 4560\n"
    }
   ],
   "source": [
    "#finding reports with non null incidents after HS activation\n",
    "classifiable_hs_reports = db.reports.count_documents({'$and':[{\"metadata.hateSpeechScore\": { '$exists': True}}, {\"metadata.hateSpeechScore\":{'$ne' : None}}, {'$or' : [{\"_sourceNicknames\": [\"ct\"]}, {\"_sourceNicknames\": [\"fb\"]}]}, {\"fetchedAt\": {'$lte': dateutil.parser.parse('2020-11-22 18:40:32.568000')}}]})\n",
    "print(\"Classifiable HS reports (has content in Burmese language and fetched after HS activation) : {}\".format(classifiable_hs_reports))\n",
    "non_null_incidents_reports_after_hs_activation = db.reports.count_documents({'$and': [{\"_incident\":{'$exists':True}}, {\"_incident\": {'$nin': [None, \"\"]}}, {\"fetchedAt\": {'$lte': dateutil.parser.parse('2020-11-22 18:40:32.568000')}}]})\n",
    "print(\"Non null incident field in reports after HS activation : {}\".format(non_null_incidents_reports_after_hs_activation))\n",
    "\n",
    "non_null_incidents_reports_after_hs_activation_list = list(db.reports.find({'$and': [{\"_incident\":{'$exists':True}}, {\"_incident\": {'$nin': [None, \"\"]}},{\"fetchedAt\": {'$lte': dateutil.parser.parse('2020-11-22 18:40:32.568000')}}]}, {\"metadata.rawAPIResponse\":0}))"
   ]
  },
  {
   "cell_type": "code",
   "execution_count": 12,
   "metadata": {},
   "outputs": [
    {
     "name": "stdout",
     "output_type": "stream",
     "text": "Unique incidents created between the timeframe : 2006\n"
    }
   ],
   "source": [
    "#creating a incident ->reports dict\n",
    "incident_report_dict = defaultdict(list)\n",
    "for report in non_null_incidents_reports_after_hs_activation_list:\n",
    "    incident_report_dict[report[\"_incident\"]].append(report)\n",
    "print(\"Unique incidents created between the timeframe : {}\".format(len(incident_report_dict.keys())))"
   ]
  },
  {
   "cell_type": "code",
   "execution_count": 13,
   "metadata": {},
   "outputs": [
    {
     "name": "stdout",
     "output_type": "stream",
     "text": "# of HS incidents created in the timeframe that are referenced in the reports collection : 556\n"
    }
   ],
   "source": [
    "# finding intersection between HS incidents and reports that have incidents after HS activation\n",
    "report_incidents_ids = list(incident_report_dict.keys())\n",
    "hs_reports_incidents_ids =  list((set(report_incidents_ids) & set(hs_incidents_ids)))\n",
    "print(\"# of HS incidents created in the timeframe that are referenced in the reports collection : {}\".format(len(hs_reports_incidents_ids)))"
   ]
  },
  {
   "cell_type": "code",
   "execution_count": 14,
   "metadata": {},
   "outputs": [
    {
     "name": "stdout",
     "output_type": "stream",
     "text": "556\n"
    }
   ],
   "source": [
    "reports_in_hs_incidents = [v for k, v in incident_report_dict.items() if k in hs_reports_incidents_ids]\n",
    "print(len(reports_in_hs_incidents))"
   ]
  },
  {
   "cell_type": "code",
   "execution_count": 16,
   "metadata": {},
   "outputs": [
    {
     "name": "stdout",
     "output_type": "stream",
     "text": "Reports added to HS incidents after HS activation : 1092\n"
    }
   ],
   "source": [
    "reports_in_hs_incidents_dcntr = []  #flattening\n",
    "for reports in reports_in_hs_incidents:\n",
    "    reports_in_hs_incidents_dcntr.extend(reports)\n",
    "\n",
    "print(\"Reports added to HS incidents after HS activation : {}\".format(len(reports_in_hs_incidents_dcntr)))"
   ]
  },
  {
   "cell_type": "code",
   "execution_count": 17,
   "metadata": {},
   "outputs": [
    {
     "name": "stdout",
     "output_type": "stream",
     "text": "Classifiable reports with Burmese content : 308\n0.4187661932748155,\n0.6612644845706683,\n0.6589945679848431,\n0.6250412186244548,\n0.039547387896563396,\n0.21029909854363676,\n0.18789589975200913,\n0.10346899923253268,\n0.3965140180163364,\n0.6250412186244548,\n0.3085547522786059,\n0.2906474554435688,\n0.5998689327914108,\n0.6137972165136802,\n0.34499680180780956,\n0.34499680180780956,\n0.3102394593702947,\n0.4253384644028445,\n0.5668188107708787,\n0.599035498007595,\n0.32233448649842517,\n0.5441910924969257,\n0.06494117647058824,\n0.4070938142082908,\n0.11106370916897232,\n0.42820926502569745,\n0.6115014686179403,\n0.4414823742240098,\n0.1390024953466172,\n0.5877479148899869,\n0.6523378723593264,\n0.6523378723593264,\n0.6157828508315746,\n0.5764496677966591,\n0.6330227148522344,\n0.599035498007595,\n0.617747342449965,\n0.6523378723593264,\n0.2250053930408801,\n0.19520745153048943,\n0.6250412186244548,\n0.4357738615219883,\n0.24075299330217736,\n0.24075299330217736,\n0.40381097099001745,\n0.5266472254533126,\n0.6250412186244548,\n0.6250412186244548,\n0.5064009185070979,\n0.48457844624633833,\n0.6250412186244548,\n0.6250412186244548,\n0.3356702144022091,\n0.49449702761158804,\n0.4577849446546623,\n0.2763283162580001,\n0.3462340751156603,\n0.6508910767073991,\n0.6268875593577701,\n0.49758235096699166,\n0.6250412186244548,\n0.2853243597473817,\n0.6407610646790204,\n0.32407479784779886,\n0.6494015015590696,\n0.22616939212839754,\n0.6455666121908622,\n0.4769876299583496,\n0.3345627783732232,\n0.6026775120290473,\n0.5047730724953945,\n0.6319404452817696,\n0.4444945016802853,\n0.6250412186244548,\n0.6250412186244548,\n0.6250412186244548,\n0.6250412186244548,\n0.6250412186244548,\n0.4137429621947957,\n0.5374610465275886,\n0.4028024741280275,\n0.6796886007535029,\n0.5924931232552147,\n0.4338129608898603,\n0.16055419730658455,\n0.30287479613536417,\n0.5326669605365388,\n0.6116683364113258,\n0.46436763690967525,\n0.3453172424660728,\n0.42814029191701336,\n0.600333212549922,\n0.6250412186244548,\n0.6250412186244548,\n0.6268875593577701,\n0.6373385063869909,\n0.5235882717449983,\n0.6250412186244548,\n0.6250412186244548,\n0.34865913992486386,\n0.34865913992486386,\n0.5374610465275886,\n0.6796886007535029,\n0.44025723006514267,\n0.43126097048622897,\n0.6250412186244548,\n0.6250412186244548,\n0.5156158971764648,\n0.4558711395732496,\n0.6250412186244548,\n0.36902019065136515,\n0.38845627233355307,\n0.5199767572846522,\n0.12224572686101923,\n0.49123082149762143,\n0.23499138416309184,\n0.28555114407216164,\n0.6373385063869909,\n0.17003942113451928,\n0.556958154027147,\n0.2575610058122634,\n0.07283605629395634,\n0.25750814051313975,\n0.44075524382506087,\n0.4383786830611639,\n0.2927835759515174,\n0.6397249005238469,\n0.6314143814259896,\n0.39696282801596566,\n0.5700703085773257,\n0.5700703085773257,\n0.31596778356927596,\n0.1308298429229076,\n0.5815690406200851,\n0.2552275107807788,\n0.15920948024016743,\n0.3752656467354231,\n0.5535136297996571,\n0.2838452957252423,\n0.254417943577411,\n0.6268875593577701,\n0.2641755439554552,\n0.41531837980137065,\n0.5879477267761745,\n0.5879477267761745,\n0.2472330195557782,\n0.2472330195557782,\n0.40783860144713324,\n0.49140568790489225,\n0.6250412186244548,\n0.37528315160082615,\n0.25541222693304344,\n0.25541222693304344,\n0.5144724969222816,\n0.030926232348866017,\n0.3925214444298263,\n0.39504262618312935,\n0.39504262618312935,\n0.38555860905116346,\n0.24783416864626648,\n0.06749951288722035,\n0.06749951288722035,\n0.06749951288722035,\n0.06749951288722035,\n0.185404817651571,\n0.364950749702516,\n0.06749951288722035,\n0.38002594273393314,\n0.4628608199135039,\n0.6250412186244548,\n0.6250412186244548,\n0.44146489465666067,\n0.5639012187498307,\n0.5447398297346744,\n0.5447398297346744,\n0.3408238268420749,\n0.3614313706293126,\n0.40853407984363316,\n0.3780119620507545,\n0.41710141476773827,\n0.5162710021659048,\n0.4710455903097025,\n0.6250412186244548,\n0.2745322065865516,\n0.6250412186244548,\n0.5785709372505404,\n0.5027814261702449,\n0.6250412186244548,\n0.6397249005238469,\n0.5131943472916208,\n0.5573300379255945,\n0.224320433752463,\n0.6250412186244548,\n0.6373385063869909,\n0.5057220149177158,\n0.5727279814408459,\n0.38997914860876903,\n0.5029045674745751,\n0.19584168885539321,\n0.6250412186244548,\n0.6250412186244548,\n0.6250412186244548,\n0.6250412186244548,\n0.6314143814259896,\n0.6250412186244548,\n0.6250412186244548,\n0.6250412186244548,\n0.6250412186244548,\n0.6250412186244548,\n0.30519557938529823,\n0.607460159494918,\n0.5750585789891445,\n0.6250412186244548,\n0.6250412186244548,\n0.2006609571784141,\n0.6250412186244548,\n0.18754687948754964,\n0.2846223739229453,\n0.15776435911675063,\n0.5675780967180765,\n0.5675780967180765,\n0.5675780967180765,\n0.6250412186244548,\n0.6250412186244548,\n0.10957339391811928,\n0.1445530356430929,\n0.6847891365215244,\n0.20993604724968126,\n0.3793666383511373,\n0.4881357707993981,\n0.607539608497042,\n0.36707225222807,\n0.48985151349068556,\n0.33073355789871495,\n0.6250412186244548,\n0.5700703085773257,\n0.3429440794648073,\n0.5195715024632048,\n0.40869063749843215,\n0.6250412186244548,\n0.6250412186244548,\n0.5579846516127914,\n0.46467813165728655,\n0.25020663545171523,\n0.6250412186244548,\n0.5700703085773257,\n0.44539836936918986,\n0.6250412186244548,\n0.49848087819053716,\n0.2757989853993416,\n0.44133379758843105,\n0.6250412186244548,\n0.39878897138087693,\n0.6142440068585181,\n0.6250412186244548,\n0.3864130967884035,\n0.6250412186244548,\n0.504275012082731,\n0.3374743151661505,\n0.3374743151661505,\n0.6250412186244548,\n0.6250412186244548,\n0.355424952676956,\n0.6250412186244548,\n0.1091568543047427,\n0.1091568543047427,\n0.1091568543047427,\n0.1091568543047427,\n0.1091568543047427,\n0.1091568543047427,\n0.1091568543047427,\n0.49178965020740967,\n0.6250412186244548,\n0.2714875372412839,\n0.6192711784484456,\n0.6250412186244548,\n0.5719074449023636,\n0.17335834622862076,\n0.607460159494918,\n0.6250412186244548,\n0.624407841570702,\n0.5719074449023636,\n0.6370683171311106,\n0.6230348513160371,\n0.22210053416520126,\n0.6252227344691446,\n0.6239398814736397,\n0.6239398814736397,\n0.6239398814736397,\n0.6239398814736397,\n0.041087226006706674,\n0.6250412186244548,\n0.4502202644968143,\n0.2328175225340775,\n0.6250412186244548,\n0.6097949079529595,\n0.6097949079529595,\n0.4669282336164969,\n0.5416863963072304,\n0.2850584314747373,\n0.6250412186244548,\n0.42951105950531854,\n0.6250412186244548,\n0.35530150747951217,\n0.33450524470871246,\n0.15667361282858422,\n0.38801075677909963,\n0.0489390488301065,\n"
    }
   ],
   "source": [
    "reports_in_hs_incidents_with_burmese = [r for r in reports_in_hs_incidents_dcntr if \"hateSpeechScore\" in r[\"metadata\"] and r[\"metadata\"][\"hateSpeechScore\"] is not None]\n",
    "print(\"Classifiable reports with Burmese content : {}\".format(len(reports_in_hs_incidents_with_burmese)))\n",
    "# for r in reports_in_hs_incidents_with_burmese:\n",
    "#     print(str(r[\"metadata\"][\"hateSpeechScore\"]) + \",\")\n",
    "for r in reports_in_hs_incidents_with_burmese:\n",
    "    print(str(r[\"metadata\"][\"hateSpeechScore\"]) + \",\")"
   ]
  },
  {
   "cell_type": "code",
   "execution_count": 47,
   "metadata": {},
   "outputs": [
    {
     "name": "stdout",
     "output_type": "stream",
     "text": "Classifiable reports with Burmese content in HS incidents with HS score > 0.45: 171 (0.5551948051948052)\n"
    }
   ],
   "source": [
    "classifiable_reports_in_hs_incidents_45 = [r for r in reports_in_hs_incidents_with_burmese if r[\"metadata\"][\"hateSpeechScore\"] >= 0.45]\n",
    "print(\"Classifiable reports with Burmese content in HS incidents with HS score > 0.45: {} ({})\".format(len(classifiable_reports_in_hs_incidents_45), len(classifiable_reports_in_hs_incidents_45)/len(reports_in_hs_incidents_with_burmese)))"
   ]
  },
  {
   "cell_type": "code",
   "execution_count": null,
   "metadata": {},
   "outputs": [],
   "source": []
  }
 ]
}