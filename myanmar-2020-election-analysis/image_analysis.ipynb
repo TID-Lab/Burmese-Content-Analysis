{
 "nbformat": 4,
 "nbformat_minor": 2,
 "metadata": {
  "language_info": {
   "name": "python",
   "codemirror_mode": {
    "name": "ipython",
    "version": 3
   },
   "version": "3.7.2-final"
  },
  "orig_nbformat": 2,
  "file_extension": ".py",
  "mimetype": "text/x-python",
  "name": "python",
  "npconvert_exporter": "python",
  "pygments_lexer": "ipython3",
  "version": 3,
  "kernelspec": {
   "name": "python3",
   "display_name": "Python 3"
  }
 },
 "cells": [
  {
   "cell_type": "code",
   "execution_count": 17,
   "metadata": {},
   "outputs": [],
   "source": [
    "from pymongo import MongoClient\n",
    "from pprint import pprint\n",
    "from bson.objectid import ObjectId\n",
    "from collections import defaultdict\n",
    "import dateutil\n",
    "import json\n",
    "import requests"
   ]
  },
  {
   "cell_type": "code",
   "execution_count": 2,
   "metadata": {},
   "outputs": [],
   "source": [
    "with open(\"secrets.json\", \"r\") as secrets:\n",
    "    mongo_uri = json.load(secrets)[\"mongo_uri\"]"
   ]
  },
  {
   "cell_type": "code",
   "execution_count": 70,
   "metadata": {},
   "outputs": [],
   "source": [
    "client = MongoClient(mongo_uri)\n",
    "db=client.aggie"
   ]
  },
  {
   "cell_type": "code",
   "execution_count": 4,
   "metadata": {},
   "outputs": [
    {
     "name": "stdout",
     "output_type": "stream",
     "text": "225289\n"
    }
   ],
   "source": [
    "# testing connection\n",
    "facebook = db.reports.count_documents({'$and': [{'_sourceNicknames': [\"ct\"]}]})\n",
    "print(facebook)"
   ]
  },
  {
   "cell_type": "code",
   "execution_count": 10,
   "metadata": {},
   "outputs": [
    {
     "name": "stdout",
     "output_type": "stream",
     "text": "Image Text Reports : 7857\n"
    }
   ],
   "source": [
    "image_text_reports_count = db.reports.count_documents({'$and':[\n",
    "    {\"metadata.imageText\": {'$ne': None}}, \n",
    "    {'fetchedAt':{'$lte': dateutil.parser.parse('2020-12-07 16:24:28.0000')}}, \n",
    "    {'$or' : [{\"_sourceNicknames\": [\"ct\"]}, {\"_sourceNicknames\": [\"fb\"]}]}]})\n",
    "print(\"Image Text Reports : {}\".format(image_text_reports_count))"
   ]
  },
  {
   "cell_type": "code",
   "execution_count": 13,
   "metadata": {},
   "outputs": [
    {
     "name": "stdout",
     "output_type": "stream",
     "text": "Image text reports : 7857\n"
    }
   ],
   "source": [
    "image_text_reports = db.reports.find({'$and':[\n",
    "    {\"metadata.imageText\": {'$ne': None}}, \n",
    "    {'fetchedAt':{'$lte': dateutil.parser.parse('2020-12-07 16:24:28.0000')}}, \n",
    "    {'$or' : [{\"_sourceNicknames\": [\"ct\"]}, {\"_sourceNicknames\": [\"fb\"]}]}]}, {\"metadata.imageText\": 1, \"_id\": 1, \"metadata.externalUrl\": 1}).sort([(\"fetchedAt\", 1)])\n",
    "image_text_reports = list(image_text_reports)\n",
    "print(\"Image text reports : {}\".format(len(image_text_reports)))"
   ]
  },
  {
   "cell_type": "code",
   "execution_count": 66,
   "metadata": {},
   "outputs": [],
   "source": [
    "# with open(\"image_text_reports.json\", \"w\") as out:\n",
    "#     json.dump(image_text_reports, out, indent = 4,default=str, ensure_ascii=False)"
   ]
  },
  {
   "cell_type": "code",
   "execution_count": 65,
   "metadata": {},
   "outputs": [],
   "source": [
    "# url = \"http://localhost:5000/predict\"\n",
    "\n",
    "# for index in range(len(image_text_reports)):\n",
    "#     report = image_text_reports[index]\n",
    "#     payload = {\"inputData\" : report[\"metadata\"][\"imageText\"]}\n",
    "#     headers = {\n",
    "#         'Content-Type': \"application/json\",\n",
    "#         'Cache-Control': \"no-cache\",\n",
    "#         'Postman-Token': \"3d38908c-9e04-4dab-9a2d-eddadf26ca44\"\n",
    "#         }\n",
    "#     response = requests.request(\"POST\", url, data=json.dumps(payload, ensure_ascii=False).encode('utf-8'), headers=headers)\n",
    "#     response = json.loads(response.text,  encoding='utf-8')\n",
    "#     image_text_reports[index][\"metadata\"][\"hateSpeechScore\"] = response[\"result\"][\"hateSpeechScore\"] \n",
    "#     if index % 500 == 0:\n",
    "#         with open(\"processed_image_text_reports.json\", \"w\") as out:\n",
    "#             json.dump(image_text_reports, out, indent = 4,default=str, ensure_ascii=False)\n",
    "    "
   ]
  },
  {
   "cell_type": "code",
   "execution_count": 67,
   "metadata": {},
   "outputs": [],
   "source": [
    "# with open(\"processed_image_text_reports.json\", \"w\") as out:\n",
    "#     json.dump(image_text_reports, out, indent = 4,default=str, ensure_ascii=False)"
   ]
  },
  {
   "cell_type": "code",
   "execution_count": 68,
   "metadata": {},
   "outputs": [],
   "source": [
    "# for index in range(len(image_text_reports)):\n",
    "#     if image_text_reports[index][\"metadata\"][\"hateSpeechScore\"] == 0:\n",
    "#         image_text_reports[index][\"metadata\"][\"hateSpeechScore\"] = None\n",
    "# with open(\"processed_image_text_reports.json\", \"w\") as out:\n",
    "#     json.dump(image_text_reports, out, indent = 4,default=str, ensure_ascii=False)"
   ]
  },
  {
   "cell_type": "code",
   "execution_count": 76,
   "metadata": {},
   "outputs": [],
   "source": [
    "# count = 0\n",
    "# for report in image_text_reports:\n",
    "    # db.reports.update_one({\"_id\": ObjectId(report[\"_id\"])}, {'$set' : {\"metadata.hateSpeechScore\": report[\"metadata\"][\"hateSpeechScore\"]}})\n",
    "    # if count % 500 == 0:\n",
    "        # print(count)"
   ]
  },
  {
   "cell_type": "code",
   "execution_count": 89,
   "metadata": {},
   "outputs": [
    {
     "name": "stdout",
     "output_type": "stream",
     "text": "Image text reports : 4687\n"
    }
   ],
   "source": [
    "image_text_reports_len = db.reports.count_documents({'$and':[\n",
    "    {\"metadata.imageText\": {'$ne': None}}, \n",
    "    {'fetchedAt':{'$lte': dateutil.parser.parse('2020-12-07 16:24:28.0000')}}, \n",
    "    {'$or' : [{\"_sourceNicknames\": [\"ct\"]}, {\"_sourceNicknames\": [\"fb\"]}]},\n",
    "    {'metadata.hateSpeechScore': {'$ne': None}}]})\n",
    "print(\"Image text reports : {}\".format(image_text_reports_len))"
   ]
  },
  {
   "cell_type": "code",
   "execution_count": 90,
   "metadata": {},
   "outputs": [
    {
     "name": "stdout",
     "output_type": "stream",
     "text": "Image text reports HS 0.45: 3618 (0.7719223383827608)\nImage text reports HS 0.55: 2562 (0.5466183059526349)\nImage text reports HS 0.65: 86 (0.01834862385321101)\n"
    }
   ],
   "source": [
    "image_text_reports_hs_45 = db.reports.count_documents({'$and':[\n",
    "    {\"metadata.imageText\": {'$ne': None}}, \n",
    "    {'fetchedAt':{'$lte': dateutil.parser.parse('2020-12-07 16:24:28.0000')}}, \n",
    "    {'$or' : [{\"_sourceNicknames\": [\"ct\"]}, {\"_sourceNicknames\": [\"fb\"]}]},\n",
    "    {'metadata.hateSpeechScore': {'$gte': 0.45}}]})\n",
    "image_text_reports_hs_55 = db.reports.count_documents({'$and':[\n",
    "    {\"metadata.imageText\": {'$ne': None}}, \n",
    "    {'fetchedAt':{'$lte': dateutil.parser.parse('2020-12-07 16:24:28.0000')}}, \n",
    "    {'$or' : [{\"_sourceNicknames\": [\"ct\"]}, {\"_sourceNicknames\": [\"fb\"]}]},\n",
    "    {'metadata.hateSpeechScore': {'$gte': 0.55}}]})\n",
    "image_text_reports_hs_65 = db.reports.count_documents({'$and':[\n",
    "    {\"metadata.imageText\": {'$ne': None}}, \n",
    "    {'fetchedAt':{'$lte': dateutil.parser.parse('2020-12-07 16:24:28.0000')}}, \n",
    "    {'$or' : [{\"_sourceNicknames\": [\"ct\"]}, {\"_sourceNicknames\": [\"fb\"]}]},\n",
    "    {'metadata.hateSpeechScore': {'$gte': 0.65}}]})\n",
    "print(\"Image text reports HS 0.45: {} ({})\".format(image_text_reports_hs_45, image_text_reports_hs_45/image_text_reports_len))\n",
    "print(\"Image text reports HS 0.55: {} ({})\".format(image_text_reports_hs_55, image_text_reports_hs_55/image_text_reports_len))\n",
    "print(\"Image text reports HS 0.65: {} ({})\".format(image_text_reports_hs_65, image_text_reports_hs_65/image_text_reports_len))"
   ]
  },
  {
   "cell_type": "code",
   "execution_count": 91,
   "metadata": {},
   "outputs": [
    {
     "name": "stdout",
     "output_type": "stream",
     "text": "579\n"
    }
   ],
   "source": [
    "#creating a list of HS incidents\n",
    "hs_incidents_1_report_list = list(db.incidents.find({'$and': [{'totalReports': 1}, {\"title\" : {'$regex' : \".*[hH]ate.*\"}}, {\"storedAt\": {'$lte': dateutil.parser.parse('2020-12-07 16:24:28.0000')}}]}))\n",
    "hs_incidents_gt_1_reports_list = list(db.incidents.find({'$and': [{'totalReports':{'$gt': 1}}, {\"title\" : {'$regex' : \".*[hH]ate.*\"}}, {\"storedAt\": {'$lte': dateutil.parser.parse('2020-12-07 16:24:28.0000')}}]}))\n",
    "hs_incidents_list = hs_incidents_1_report_list + hs_incidents_gt_1_reports_list\n",
    "print(len(hs_incidents_list))"
   ]
  },
  {
   "cell_type": "code",
   "execution_count": 92,
   "metadata": {},
   "outputs": [],
   "source": [
    "#creating a list of hs incident ids for cross referencing\n",
    "hs_incidents_ids = [str(incident[\"_id\"]) for incident in hs_incidents_list]"
   ]
  },
  {
   "cell_type": "code",
   "execution_count": 105,
   "metadata": {},
   "outputs": [
    {
     "name": "stdout",
     "output_type": "stream",
     "text": "Non null incident field in reports with image text : 71\n"
    }
   ],
   "source": [
    "non_null_incidents_reports_img_text = db.reports.count_documents({'$and': [{\"metadata.imageText\": {'$ne': None}},{\"metadata.hateSpeechScore\":{'$ne' : None}}, {\"_incident\":{'$exists':True}}, {\"_incident\": {'$nin': [None, \"\"]}}, {\"fetchedAt\": {'$lte': dateutil.parser.parse('2020-12-07 16:24:28.0000')}}]})\n",
    "\n",
    "non_null_incidents_reports_img_text_list = list(db.reports.find({'$and': [{\"metadata.imageText\": {'$ne': None}}, {\"metadata.hateSpeechScore\":{'$ne' : None}},{\"_incident\":{'$exists':True}}, {\"_incident\": {'$nin': [None, \"\"]}}, {\"fetchedAt\": {'$lte': dateutil.parser.parse('2020-12-07 16:24:28.0000')}}]}))\n",
    "\n",
    "\n",
    "print(\"Non null incident field in reports with image text : {}\".format(non_null_incidents_reports_img_text))"
   ]
  },
  {
   "cell_type": "code",
   "execution_count": 106,
   "metadata": {},
   "outputs": [
    {
     "name": "stdout",
     "output_type": "stream",
     "text": "Unique incidents created between the timeframe : 49\n"
    }
   ],
   "source": [
    "#creating a incident ->reports dict\n",
    "incident_report_dict = defaultdict(list)\n",
    "for report in non_null_incidents_reports_img_text_list:\n",
    "    incident_report_dict[report[\"_incident\"]].append(report)\n",
    "print(\"Unique incidents created between the timeframe : {}\".format(len(incident_report_dict.keys())))"
   ]
  },
  {
   "cell_type": "code",
   "execution_count": 107,
   "metadata": {},
   "outputs": [
    {
     "name": "stdout",
     "output_type": "stream",
     "text": "# of HS incidents created in the timeframe that are referenced in the reports collection : 7\n"
    }
   ],
   "source": [
    "# finding intersection between HS incidents and reports that have incidents after HS activation\n",
    "report_incidents_ids = list(incident_report_dict.keys())\n",
    "hs_reports_incidents_ids =  list((set(report_incidents_ids) & set(hs_incidents_ids)))\n",
    "print(\"# of HS incidents created in the timeframe that are referenced in the reports collection : {}\".format(len(hs_reports_incidents_ids)))"
   ]
  },
  {
   "cell_type": "code",
   "execution_count": 108,
   "metadata": {},
   "outputs": [
    {
     "name": "stdout",
     "output_type": "stream",
     "text": "7\n"
    }
   ],
   "source": [
    "reports_in_hs_incidents = [v for k, v in incident_report_dict.items() if k in hs_reports_incidents_ids]\n",
    "print(len(reports_in_hs_incidents))"
   ]
  },
  {
   "cell_type": "code",
   "execution_count": 109,
   "metadata": {},
   "outputs": [
    {
     "name": "stdout",
     "output_type": "stream",
     "text": "Reports added to HS incidents after HS activation : 8\n"
    }
   ],
   "source": [
    "reports_in_hs_incidents_dcntr = []  #flattening\n",
    "for reports in reports_in_hs_incidents:\n",
    "    reports_in_hs_incidents_dcntr.extend(reports)\n",
    "\n",
    "print(\"Reports added to HS incidents after HS activation : {}\".format(len(reports_in_hs_incidents_dcntr)))"
   ]
  },
  {
   "cell_type": "code",
   "execution_count": 110,
   "metadata": {},
   "outputs": [
    {
     "name": "stdout",
     "output_type": "stream",
     "text": "Classifiable reports with Burmese content : 8\n"
    }
   ],
   "source": [
    "reports_in_hs_incidents_with_burmese = [r for r in reports_in_hs_incidents_dcntr if \"hateSpeechScore\" in r[\"metadata\"] and r[\"metadata\"][\"hateSpeechScore\"] is not None]\n",
    "print(\"Classifiable reports with Burmese content : {}\".format(len(reports_in_hs_incidents_with_burmese)))"
   ]
  },
  {
   "cell_type": "code",
   "execution_count": 111,
   "metadata": {},
   "outputs": [
    {
     "name": "stdout",
     "output_type": "stream",
     "text": "Classifiable reports with Burmese content in HS incidents with HS score > 0.45: 7 (0.875)\n"
    }
   ],
   "source": [
    "classifiable_reports_in_hs_incidents_45 = [r for r in reports_in_hs_incidents_with_burmese if r[\"metadata\"][\"hateSpeechScore\"] >= 0.45]\n",
    "print(\"Classifiable reports with Burmese content in HS incidents with HS score > 0.45: {} ({})\".format(len(classifiable_reports_in_hs_incidents_45), len(classifiable_reports_in_hs_incidents_45)/len(reports_in_hs_incidents_with_burmese)))"
   ]
  },
  {
   "cell_type": "code",
   "execution_count": null,
   "metadata": {},
   "outputs": [],
   "source": []
  }
 ]
}